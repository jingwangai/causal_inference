{
 "cells": [
  {
   "cell_type": "markdown",
   "id": "75528ec3-1d71-4e21-8bad-4c3b3678b8ae",
   "metadata": {},
   "source": [
    "pip install dowhy"
   ]
  },
  {
   "cell_type": "code",
   "execution_count": 1,
   "id": "61953758-5dea-4990-a5dc-840a7d8b4426",
   "metadata": {},
   "outputs": [],
   "source": [
    "import warnings\n",
    "\n",
    "warnings.filterwarnings('ignore')"
   ]
  },
  {
   "cell_type": "code",
   "execution_count": 2,
   "id": "91cd7e60-3735-4752-a276-a20026622791",
   "metadata": {},
   "outputs": [],
   "source": [
    "from dowhy import CausalModel\n",
    "import dowhy.datasets"
   ]
  },
  {
   "cell_type": "markdown",
   "id": "47d76778-f8c7-4b52-b6b8-c671b7c90ee9",
   "metadata": {},
   "source": [
    "https://www.kaggle.com/datasets/mohithsairamreddy/salary-data?resource=download"
   ]
  },
  {
   "cell_type": "code",
   "execution_count": 3,
   "id": "447f90b0-ddaf-4817-9cac-a10579c9d77a",
   "metadata": {},
   "outputs": [
    {
     "name": "stdout",
     "output_type": "stream",
     "text": [
      "<class 'pandas.core.frame.DataFrame'>\n",
      "RangeIndex: 6704 entries, 0 to 6703\n",
      "Data columns (total 6 columns):\n",
      " #   Column               Non-Null Count  Dtype  \n",
      "---  ------               --------------  -----  \n",
      " 0   Age                  6702 non-null   float64\n",
      " 1   Gender               6702 non-null   object \n",
      " 2   Education Level      6701 non-null   object \n",
      " 3   Job Title            6702 non-null   object \n",
      " 4   Years of Experience  6701 non-null   float64\n",
      " 5   Salary               6699 non-null   float64\n",
      "dtypes: float64(3), object(3)\n",
      "memory usage: 314.4+ KB\n"
     ]
    }
   ],
   "source": [
    "import pandas as pd\n",
    "df=pd.read_csv('Salary_Data.csv')\n",
    "df.info()"
   ]
  },
  {
   "cell_type": "code",
   "execution_count": 4,
   "id": "3785c09d-8af6-4b0f-96c1-a2edc1ea2c7d",
   "metadata": {},
   "outputs": [],
   "source": [
    "df.rename(columns=lambda x:x.replace(' ', '_'),inplace=True)"
   ]
  },
  {
   "cell_type": "code",
   "execution_count": 6,
   "id": "d6f4c477-8d38-4d8b-9626-f4c3cd57e873",
   "metadata": {},
   "outputs": [],
   "source": [
    "numeric = ['Age', 'Years_of_Experience', 'Salary']\n",
    "for col in numeric:\n",
    "    df[col] = df[col].fillna(df[col].mean())"
   ]
  },
  {
   "cell_type": "code",
   "execution_count": 7,
   "id": "68c818c7-967f-4290-b6a7-ff444906dcee",
   "metadata": {},
   "outputs": [
    {
     "data": {
      "text/html": [
       "<div>\n",
       "<style scoped>\n",
       "    .dataframe tbody tr th:only-of-type {\n",
       "        vertical-align: middle;\n",
       "    }\n",
       "\n",
       "    .dataframe tbody tr th {\n",
       "        vertical-align: top;\n",
       "    }\n",
       "\n",
       "    .dataframe thead th {\n",
       "        text-align: right;\n",
       "    }\n",
       "</style>\n",
       "<table border=\"1\" class=\"dataframe\">\n",
       "  <thead>\n",
       "    <tr style=\"text-align: right;\">\n",
       "      <th></th>\n",
       "      <th>Age</th>\n",
       "      <th>Gender</th>\n",
       "      <th>Education_Level</th>\n",
       "      <th>Job_Title</th>\n",
       "      <th>Years_of_Experience</th>\n",
       "      <th>Salary</th>\n",
       "    </tr>\n",
       "  </thead>\n",
       "  <tbody>\n",
       "    <tr>\n",
       "      <th>0</th>\n",
       "      <td>32.0</td>\n",
       "      <td>Male</td>\n",
       "      <td>Bachelor's</td>\n",
       "      <td>Software Engineer</td>\n",
       "      <td>5.0</td>\n",
       "      <td>90000.0</td>\n",
       "    </tr>\n",
       "    <tr>\n",
       "      <th>1</th>\n",
       "      <td>28.0</td>\n",
       "      <td>Female</td>\n",
       "      <td>Master's</td>\n",
       "      <td>Data Analyst</td>\n",
       "      <td>3.0</td>\n",
       "      <td>65000.0</td>\n",
       "    </tr>\n",
       "    <tr>\n",
       "      <th>2</th>\n",
       "      <td>45.0</td>\n",
       "      <td>Male</td>\n",
       "      <td>PhD</td>\n",
       "      <td>Senior Manager</td>\n",
       "      <td>15.0</td>\n",
       "      <td>150000.0</td>\n",
       "    </tr>\n",
       "    <tr>\n",
       "      <th>3</th>\n",
       "      <td>36.0</td>\n",
       "      <td>Female</td>\n",
       "      <td>Bachelor's</td>\n",
       "      <td>Sales Associate</td>\n",
       "      <td>7.0</td>\n",
       "      <td>60000.0</td>\n",
       "    </tr>\n",
       "    <tr>\n",
       "      <th>4</th>\n",
       "      <td>52.0</td>\n",
       "      <td>Male</td>\n",
       "      <td>Master's</td>\n",
       "      <td>Director</td>\n",
       "      <td>20.0</td>\n",
       "      <td>200000.0</td>\n",
       "    </tr>\n",
       "    <tr>\n",
       "      <th>...</th>\n",
       "      <td>...</td>\n",
       "      <td>...</td>\n",
       "      <td>...</td>\n",
       "      <td>...</td>\n",
       "      <td>...</td>\n",
       "      <td>...</td>\n",
       "    </tr>\n",
       "    <tr>\n",
       "      <th>6699</th>\n",
       "      <td>49.0</td>\n",
       "      <td>Female</td>\n",
       "      <td>PhD</td>\n",
       "      <td>Director of Marketing</td>\n",
       "      <td>20.0</td>\n",
       "      <td>200000.0</td>\n",
       "    </tr>\n",
       "    <tr>\n",
       "      <th>6700</th>\n",
       "      <td>32.0</td>\n",
       "      <td>Male</td>\n",
       "      <td>High School</td>\n",
       "      <td>Sales Associate</td>\n",
       "      <td>3.0</td>\n",
       "      <td>50000.0</td>\n",
       "    </tr>\n",
       "    <tr>\n",
       "      <th>6701</th>\n",
       "      <td>30.0</td>\n",
       "      <td>Female</td>\n",
       "      <td>Bachelor's Degree</td>\n",
       "      <td>Financial Manager</td>\n",
       "      <td>4.0</td>\n",
       "      <td>55000.0</td>\n",
       "    </tr>\n",
       "    <tr>\n",
       "      <th>6702</th>\n",
       "      <td>46.0</td>\n",
       "      <td>Male</td>\n",
       "      <td>Master's Degree</td>\n",
       "      <td>Marketing Manager</td>\n",
       "      <td>14.0</td>\n",
       "      <td>140000.0</td>\n",
       "    </tr>\n",
       "    <tr>\n",
       "      <th>6703</th>\n",
       "      <td>26.0</td>\n",
       "      <td>Female</td>\n",
       "      <td>High School</td>\n",
       "      <td>Sales Executive</td>\n",
       "      <td>1.0</td>\n",
       "      <td>35000.0</td>\n",
       "    </tr>\n",
       "  </tbody>\n",
       "</table>\n",
       "<p>6704 rows × 6 columns</p>\n",
       "</div>"
      ],
      "text/plain": [
       "       Age  Gender    Education_Level              Job_Title  \\\n",
       "0     32.0    Male         Bachelor's      Software Engineer   \n",
       "1     28.0  Female           Master's           Data Analyst   \n",
       "2     45.0    Male                PhD         Senior Manager   \n",
       "3     36.0  Female         Bachelor's        Sales Associate   \n",
       "4     52.0    Male           Master's               Director   \n",
       "...    ...     ...                ...                    ...   \n",
       "6699  49.0  Female                PhD  Director of Marketing   \n",
       "6700  32.0    Male        High School        Sales Associate   \n",
       "6701  30.0  Female  Bachelor's Degree      Financial Manager   \n",
       "6702  46.0    Male    Master's Degree      Marketing Manager   \n",
       "6703  26.0  Female        High School        Sales Executive   \n",
       "\n",
       "      Years_of_Experience    Salary  \n",
       "0                     5.0   90000.0  \n",
       "1                     3.0   65000.0  \n",
       "2                    15.0  150000.0  \n",
       "3                     7.0   60000.0  \n",
       "4                    20.0  200000.0  \n",
       "...                   ...       ...  \n",
       "6699                 20.0  200000.0  \n",
       "6700                  3.0   50000.0  \n",
       "6701                  4.0   55000.0  \n",
       "6702                 14.0  140000.0  \n",
       "6703                  1.0   35000.0  \n",
       "\n",
       "[6704 rows x 6 columns]"
      ]
     },
     "execution_count": 7,
     "metadata": {},
     "output_type": "execute_result"
    }
   ],
   "source": [
    "df"
   ]
  },
  {
   "cell_type": "code",
   "execution_count": 8,
   "id": "06fc2e0d-0691-4581-915d-e223b805c681",
   "metadata": {},
   "outputs": [],
   "source": [
    "import numpy as np\n",
    "\n",
    "categorical = ['Gender', 'Education_Level']\n",
    "for col in categorical:\n",
    "    mode_val = df[col].mode()[0] \n",
    "    df[col] = df[col].fillna(mode_val)\n",
    "\n",
    "df['Education_Level'] = np.where(df['Education_Level'] == \"PhD\", 1, 0)"
   ]
  },
  {
   "cell_type": "code",
   "execution_count": 9,
   "id": "0cb54a65-54a7-41e1-815a-7f2a3caa5c2b",
   "metadata": {},
   "outputs": [],
   "source": [
    "df=df[['Age',\n",
    "'Gender',\n",
    "'Education_Level',\n",
    "'Years_of_Experience',\n",
    "'Salary']]"
   ]
  },
  {
   "cell_type": "code",
   "execution_count": 10,
   "id": "7bf8e362-5fd5-4769-a826-6b1b9ba8fcfb",
   "metadata": {},
   "outputs": [
    {
     "data": {
      "text/html": [
       "<div>\n",
       "<style scoped>\n",
       "    .dataframe tbody tr th:only-of-type {\n",
       "        vertical-align: middle;\n",
       "    }\n",
       "\n",
       "    .dataframe tbody tr th {\n",
       "        vertical-align: top;\n",
       "    }\n",
       "\n",
       "    .dataframe thead th {\n",
       "        text-align: right;\n",
       "    }\n",
       "</style>\n",
       "<table border=\"1\" class=\"dataframe\">\n",
       "  <thead>\n",
       "    <tr style=\"text-align: right;\">\n",
       "      <th></th>\n",
       "      <th>Age</th>\n",
       "      <th>Gender</th>\n",
       "      <th>Education_Level</th>\n",
       "      <th>Years_of_Experience</th>\n",
       "      <th>Salary</th>\n",
       "    </tr>\n",
       "  </thead>\n",
       "  <tbody>\n",
       "    <tr>\n",
       "      <th>0</th>\n",
       "      <td>32.0</td>\n",
       "      <td>Male</td>\n",
       "      <td>0</td>\n",
       "      <td>5.0</td>\n",
       "      <td>90000.0</td>\n",
       "    </tr>\n",
       "    <tr>\n",
       "      <th>1</th>\n",
       "      <td>28.0</td>\n",
       "      <td>Female</td>\n",
       "      <td>0</td>\n",
       "      <td>3.0</td>\n",
       "      <td>65000.0</td>\n",
       "    </tr>\n",
       "    <tr>\n",
       "      <th>2</th>\n",
       "      <td>45.0</td>\n",
       "      <td>Male</td>\n",
       "      <td>1</td>\n",
       "      <td>15.0</td>\n",
       "      <td>150000.0</td>\n",
       "    </tr>\n",
       "    <tr>\n",
       "      <th>3</th>\n",
       "      <td>36.0</td>\n",
       "      <td>Female</td>\n",
       "      <td>0</td>\n",
       "      <td>7.0</td>\n",
       "      <td>60000.0</td>\n",
       "    </tr>\n",
       "    <tr>\n",
       "      <th>4</th>\n",
       "      <td>52.0</td>\n",
       "      <td>Male</td>\n",
       "      <td>0</td>\n",
       "      <td>20.0</td>\n",
       "      <td>200000.0</td>\n",
       "    </tr>\n",
       "    <tr>\n",
       "      <th>...</th>\n",
       "      <td>...</td>\n",
       "      <td>...</td>\n",
       "      <td>...</td>\n",
       "      <td>...</td>\n",
       "      <td>...</td>\n",
       "    </tr>\n",
       "    <tr>\n",
       "      <th>6699</th>\n",
       "      <td>49.0</td>\n",
       "      <td>Female</td>\n",
       "      <td>1</td>\n",
       "      <td>20.0</td>\n",
       "      <td>200000.0</td>\n",
       "    </tr>\n",
       "    <tr>\n",
       "      <th>6700</th>\n",
       "      <td>32.0</td>\n",
       "      <td>Male</td>\n",
       "      <td>0</td>\n",
       "      <td>3.0</td>\n",
       "      <td>50000.0</td>\n",
       "    </tr>\n",
       "    <tr>\n",
       "      <th>6701</th>\n",
       "      <td>30.0</td>\n",
       "      <td>Female</td>\n",
       "      <td>0</td>\n",
       "      <td>4.0</td>\n",
       "      <td>55000.0</td>\n",
       "    </tr>\n",
       "    <tr>\n",
       "      <th>6702</th>\n",
       "      <td>46.0</td>\n",
       "      <td>Male</td>\n",
       "      <td>0</td>\n",
       "      <td>14.0</td>\n",
       "      <td>140000.0</td>\n",
       "    </tr>\n",
       "    <tr>\n",
       "      <th>6703</th>\n",
       "      <td>26.0</td>\n",
       "      <td>Female</td>\n",
       "      <td>0</td>\n",
       "      <td>1.0</td>\n",
       "      <td>35000.0</td>\n",
       "    </tr>\n",
       "  </tbody>\n",
       "</table>\n",
       "<p>6704 rows × 5 columns</p>\n",
       "</div>"
      ],
      "text/plain": [
       "       Age  Gender  Education_Level  Years_of_Experience    Salary\n",
       "0     32.0    Male                0                  5.0   90000.0\n",
       "1     28.0  Female                0                  3.0   65000.0\n",
       "2     45.0    Male                1                 15.0  150000.0\n",
       "3     36.0  Female                0                  7.0   60000.0\n",
       "4     52.0    Male                0                 20.0  200000.0\n",
       "...    ...     ...              ...                  ...       ...\n",
       "6699  49.0  Female                1                 20.0  200000.0\n",
       "6700  32.0    Male                0                  3.0   50000.0\n",
       "6701  30.0  Female                0                  4.0   55000.0\n",
       "6702  46.0    Male                0                 14.0  140000.0\n",
       "6703  26.0  Female                0                  1.0   35000.0\n",
       "\n",
       "[6704 rows x 5 columns]"
      ]
     },
     "execution_count": 10,
     "metadata": {},
     "output_type": "execute_result"
    }
   ],
   "source": [
    "df"
   ]
  },
  {
   "cell_type": "code",
   "execution_count": 11,
   "id": "b2a35153-dd73-4c9a-bf4d-bbc81abae2c1",
   "metadata": {},
   "outputs": [],
   "source": [
    "causal_graph = \"\"\"\n",
    "digraph {\n",
    "Age;\n",
    "Gender;\n",
    "Education_Level;\n",
    "Years_of_Experience;\n",
    "Salary;\n",
    "Gender -> Education_Level -> Salary;\n",
    "Gender -> Salary;\n",
    "Age -> Years_of_Experience -> Salary;\n",
    "Age -> Education_Level;\n",
    "Age -> Salary;\n",
    "Gender->Salary;\n",
    "}\n",
    "\"\"\""
   ]
  },
  {
   "cell_type": "code",
   "execution_count": 12,
   "id": "f9149295-5bb9-4907-94eb-343c1ff9a912",
   "metadata": {},
   "outputs": [
    {
     "data": {
      "image/png": "[encoded data removed]",
      "text/plain": [
       "<Figure size 800x600 with 1 Axes>"
      ]
     },
     "metadata": {},
     "output_type": "display_data"
    }
   ],
   "source": [
    "from dowhy import CausalModel\n",
    "model= CausalModel(\n",
    "        data = df,\n",
    "        graph=causal_graph.replace(\"\\n\", \" \"),\n",
    "        treatment='Education_Level',\n",
    "        outcome='Salary')\n",
    "\n",
    "model.view_model()"
   ]
  },
  {
   "cell_type": "markdown",
   "id": "13b02ccf-fa9e-4ff6-8688-c962be23ba17",
   "metadata": {},
   "source": [
    "# causal identification"
   ]
  },
  {
   "cell_type": "code",
   "execution_count": 14,
   "id": "d41243eb-e94e-4ca6-9a78-fcc544c81ffe",
   "metadata": {},
   "outputs": [
    {
     "name": "stdout",
     "output_type": "stream",
     "text": [
      "Estimand type: EstimandType.NONPARAMETRIC_ATE\n",
      "\n",
      "### Estimand : 1\n",
      "Estimand name: backdoor\n",
      "Estimand expression:\n",
      "        d                               \n",
      "──────────────────(E[Salary|Gender,Age])\n",
      "d[Education_Level]                      \n",
      "Estimand assumption 1, Unconfoundedness: If U→{Education_Level} and U→Salary then P(Salary|Education_Level,Gender,Age,U) = P(Salary|Education_Level,Gender,Age)\n",
      "\n",
      "### Estimand : 2\n",
      "Estimand name: iv\n",
      "No such variable(s) found!\n",
      "\n",
      "### Estimand : 3\n",
      "Estimand name: frontdoor\n",
      "No such variable(s) found!\n",
      "\n"
     ]
    }
   ],
   "source": [
    "estimands = model.identify_effect()\n",
    "print(estimands)"
   ]
  },
  {
   "cell_type": "markdown",
   "id": "9bea838a-c453-420e-accc-eae0a77fbe05",
   "metadata": {},
   "source": [
    "The `identify_effect` function from DoWhy is used to determine which causal estimands can be identified given the assumptions and the model structure. Here's a breakdown of the results you provided:"
   ]
  },
  {
   "cell_type": "markdown",
   "id": "da06aed7-f874-408e-b4b7-c3589ced70b0",
   "metadata": {},
   "source": [
    "## Estimand Expression:\n",
    "\n",
    "$\n",
    "\\frac{d}{𝑑[Education Level]}\n",
    "(\n",
    "E[Salary | Gender, Age]\n",
    ")\n",
    "$\n",
    "\n",
    "This formula represents the average treatment effect (ATE) of $Education_Level$ on $Salary$ while controlling for $Gender$ and $Age$ to account for confounding factors. \n",
    "\n",
    "The backdoor method involves controlling for variables (here, $Gender$ and $Age$) that could confound the relationship between the treatment ($Education_Level$) and the outcome ($Salary$)."
   ]
  },
  {
   "cell_type": "markdown",
   "id": "d33e1016-a6b3-43c5-8620-728ec44a3c8e",
   "metadata": {},
   "source": [
    "## Unconfoundedness: \n",
    "\n",
    "This assumption states that any unobserved variables affecting both $Education\\_Level$ and $Salary$ are not affecting the relationship between these variables once we control for $Gender$ and $Age$. \n",
    "\n",
    "Mathematically, it means that if there are unobserved variables \n",
    "$𝑈$, \n",
    "such that \n",
    "\n",
    "$U→\\{Education\\_Level\\}$\n",
    "\n",
    " and \n",
    "\n",
    "$U→Salary$, \n",
    "\n",
    "then the conditional distribution of Salary given $Education\\_Level$, $Gender$, and $Age$ is the same whether or not we include \n",
    "$U$:\n",
    "\n",
    "$P(Salary∣Education Level,Gender,Age,U)=P(Salary∣Education Level,Gender,Age)$"
   ]
  },
  {
   "cell_type": "markdown",
   "id": "9bdd24b2-4a91-4dcc-81b2-2432a0b84430",
   "metadata": {},
   "source": [
    "## Estimand : 2 (Instrumental Variables - IV)\n",
    "\n",
    "Estimand Name: iv\n",
    "\n",
    "Variable Availability: No such variable(s) found.\n",
    "\n",
    "This suggests that no variables in your model satisfy the requirements for an instrumental variable analysis.\n",
    "\n",
    "Instrumental variables are typically used when there is concern about endogeneity or when some variables are not exogenous."
   ]
  },
  {
   "cell_type": "markdown",
   "id": "6affe8ba-a69b-447a-a663-6b629d3842f7",
   "metadata": {},
   "source": [
    "## Estimand : 3 (Frontdoor)\n",
    "\n",
    "Estimand Name: frontdoor\n",
    "\n",
    "Variable Availability: No such variable(s) found.\n",
    "    \n",
    "The frontdoor criterion involves finding a variable that mediates the effect of the treatment on the outcome.\n",
    "\n",
    "In your case, it seems there are no variables in your model that satisfy this criterion for identifying causal effects through the frontdoor method."
   ]
  },
  {
   "cell_type": "markdown",
   "id": "e6753e13-6e57-4acb-813b-81aa3d604dfe",
   "metadata": {},
   "source": [
    "# linear_regression effect estimation"
   ]
  },
  {
   "cell_type": "code",
   "execution_count": 17,
   "id": "52636e87-6aff-46fd-9e14-555a98ad5aff",
   "metadata": {},
   "outputs": [
    {
     "name": "stdout",
     "output_type": "stream",
     "text": [
      "Estimate of causal effect: *** Causal Estimate ***\n",
      "\n",
      "## Identified estimand\n",
      "Estimand type: EstimandType.NONPARAMETRIC_ATE\n",
      "\n",
      "### Estimand : 1\n",
      "Estimand name: backdoor\n",
      "Estimand expression:\n",
      "        d                               \n",
      "──────────────────(E[Salary|Gender,Age])\n",
      "d[Education_Level]                      \n",
      "Estimand assumption 1, Unconfoundedness: If U→{Education_Level} and U→Salary then P(Salary|Education_Level,Gender,Age,U) = P(Salary|Education_Level,Gender,Age)\n",
      "\n",
      "## Realized estimand\n",
      "b: Salary~Education_Level+Gender+Age+Education_Level*Years_of_Experience\n",
      "Target units: \n",
      "\n",
      "## Estimate\n",
      "Mean value: 29089.154379444575\n",
      "p-value: [3.19478926e-59]\n",
      "95.0% confidence interval: (25574.717986810618, 32575.70416286758)\n",
      "### Conditional Estimates\n",
      "__categorical__Years_of_Experience\n",
      "(-0.001, 3.0]    41967.753755\n",
      "(3.0, 5.0]       36703.199304\n",
      "(5.0, 8.0]       31387.761831\n",
      "(8.0, 13.0]      23417.492346\n",
      "(13.0, 34.0]      8683.994041\n",
      "dtype: float64\n"
     ]
    }
   ],
   "source": [
    "estimate= model.estimate_effect(\n",
    "identified_estimand=estimands,\n",
    "method_name='backdoor.linear_regression',\n",
    "confidence_intervals=True,\n",
    "test_significance=True\n",
    ")\n",
    "\n",
    "print(f'Estimate of causal effect: {estimate}')"
   ]
  },
  {
   "cell_type": "markdown",
   "id": "c5321f4d-2340-494d-912b-98b95b1f40a9",
   "metadata": {},
   "source": [
    "## Identified Estimand:\n",
    "\n",
    "### Estimand Type: NONPARAMETRIC_ATE (Average Treatment Effect).\n",
    "\n",
    "### Estimand Name: backdoor.\n",
    "\n",
    "### Expression: \n",
    "\n",
    "$\\frac{𝑑}{𝑑\n",
    "[\n",
    "Education Level\n",
    "]}\n",
    "(\n",
    "E[Salary | Age, Gender]\n",
    ")\n",
    "$\n",
    "\n",
    "This formula represents the average effect of changes in `Education_Level` on `Salary`, while controlling for `Age` and `Gender`."
   ]
  },
  {
   "cell_type": "markdown",
   "id": "f97f7742-c7ce-4fed-8040-f4dc668e8cdd",
   "metadata": {},
   "source": [
    "## Assumption:\n",
    "\n",
    "### Unconfoundedness: \n",
    "\n",
    "The assumption states that any unobserved confounders affecting `Education_Level` should also affect `Salary`, so the relationship between `Salary` and `Education_Level` (controlling for `Age` and `Gender`) is not biased by omitted variables."
   ]
  },
  {
   "cell_type": "markdown",
   "id": "2d21a0c0-d65e-473a-82a4-2ef4f864f855",
   "metadata": {},
   "source": [
    "## Realized Estimand\n",
    "\n",
    "Model Specification: The model used for the estimate is \n",
    "\n",
    "`\n",
    "Salary\n",
    "∼\n",
    "Education Level\n",
    "+\n",
    "Age\n",
    "+\n",
    "Gender\n",
    "+\n",
    "Education Level\n",
    "×\n",
    "Years of Experience\n",
    "`\n",
    "    \n",
    "This suggests that the model includes not only the main effects but also the interaction between `Education Level` and `Years of Experience`."
   ]
  },
  {
   "cell_type": "markdown",
   "id": "1d1f5f26-1a6d-4ade-9af2-8f1237f8edf4",
   "metadata": {},
   "source": [
    "## Estimate\n",
    "\n",
    "### Mean Value: \n",
    "\n",
    "The average estimated causal effect of `Education_Level` on `Salary` is approximately `$29,089.15`.\n",
    "\n",
    "### Causal Effect: \n",
    "\n",
    "The mean value of `$29,089.15` suggests that, on average, a one-unit increase in `Education_Level` is associated with an increase of approximately `$29,089.15` in Salary, when controlling for `Age`, `Gender`, and the interaction between `Education_Level` and `Years of Experience`.\n",
    "\n",
    "### Average Estimate: \n",
    "\n",
    "This value is the overall average effect across the population in your study, considering the entire range of `Years of Experience` and other covariates included in your model. It reflects the average impact of educational attainment on salary within the context of the model’s assumptions and the specific dataset you are analyzing.\n",
    "\n",
    "## p-value: \n",
    "\n",
    "$\n",
    "3.19478926\n",
    "\\times 10^{−59}\n",
    "$\n",
    " , which is extremely small and indicates a highly significant result.\n",
    "\n",
    "## 95% Confidence Interval: \n",
    "\n",
    "`(25,974.24, 31,996.43)`. This interval provides a range where the true effect is likely to lie with 95% confidence."
   ]
  },
  {
   "cell_type": "markdown",
   "id": "e6793a0d-32ce-4585-ad57-91223a7975dd",
   "metadata": {},
   "source": [
    "## Conditional Estimates\n",
    "\n",
    "These estimates show the causal effect of `Education_Level` on `Salary` at different ranges of `Years_of_Experience`:\n",
    "\n",
    "```\n",
    "(-0.001, 3.0]: $41,967.75\n",
    "(3.0, 5.0]: $36,703.20\n",
    "(5.0, 8.0]: $31,387.76\n",
    "(8.0, 13.0]: $23,417.49\n",
    "(13.0, 34.0]: $8,683.99\n",
    "```\n",
    "\n",
    "These values suggest that the effect of `Education_Level` on `Salary` decreases as `Years_of_Experience` increases. For individuals with fewer years of experience, the effect of `Education_Level` on `salary` is higher compared to those with more experience."
   ]
  },
  {
   "cell_type": "markdown",
   "id": "0039b173-43fb-4544-ac21-45ad82a911d8",
   "metadata": {},
   "source": [
    "# propensity_score_stratification"
   ]
  },
  {
   "cell_type": "code",
   "execution_count": 22,
   "id": "98f1e102-1bde-41e1-9544-ecfb5b652b7b",
   "metadata": {},
   "outputs": [
    {
     "name": "stdout",
     "output_type": "stream",
     "text": [
      "Estimate of causal effect: *** Causal Estimate ***\n",
      "\n",
      "## Identified estimand\n",
      "Estimand type: EstimandType.NONPARAMETRIC_ATE\n",
      "\n",
      "### Estimand : 1\n",
      "Estimand name: backdoor\n",
      "Estimand expression:\n",
      "        d                               \n",
      "──────────────────(E[Salary|Gender,Age])\n",
      "d[Education_Level]                      \n",
      "Estimand assumption 1, Unconfoundedness: If U→{Education_Level} and U→Salary then P(Salary|Education_Level,Gender,Age,U) = P(Salary|Education_Level,Gender,Age)\n",
      "\n",
      "## Realized estimand\n",
      "b: Salary~Education_Level+Gender+Age\n",
      "Target units: ate\n",
      "\n",
      "## Estimate\n",
      "Mean value: 23098.97394938504\n",
      "p-value: [0, 0.001]\n",
      "95.0% confidence interval: (18865.401986502133, 26017.464620431812)\n",
      "\n",
      "CPU times: total: 3min 39s\n",
      "Wall time: 5min 34s\n"
     ]
    }
   ],
   "source": [
    "%%time\n",
    "\n",
    "estimate= model.estimate_effect(\n",
    "identified_estimand=estimands,\n",
    "method_name='backdoor.propensity_score_stratification',\n",
    "confidence_intervals=True,\n",
    "test_significance=True\n",
    ")\n",
    "\n",
    "print(f'Estimate of causal effect: {estimate}')"
   ]
  },
  {
   "cell_type": "code",
   "execution_count": 46,
   "id": "6fcf88ec-12b2-43e1-b162-7077c1f7ce5e",
   "metadata": {},
   "outputs": [
    {
     "name": "stdout",
     "output_type": "stream",
     "text": [
      "Refute: Add a random common cause\n",
      "Estimated effect:29089.154379444575\n",
      "New effect:29087.742321821734\n",
      "p value:0.94\n",
      "\n"
     ]
    }
   ],
   "source": [
    "refutel_common_cause=model.refute_estimate(estimands,estimate,\"random_common_cause\")\n",
    "print(refutel_common_cause)"
   ]
  },
  {
   "cell_type": "markdown",
   "id": "c2e22554-3dee-4b87-bc70-a931e0961f56",
   "metadata": {},
   "source": [
    "# end"
   ]
  }
 ],
 "metadata": {
  "kernelspec": {
   "display_name": "Python 3 (ipykernel)",
   "language": "python",
   "name": "python3"
  },
  "language_info": {
   "codemirror_mode": {
    "name": "ipython",
    "version": 3
   },
   "file_extension": ".py",
   "mimetype": "text/x-python",
   "name": "python",
   "nbconvert_exporter": "python",
   "pygments_lexer": "ipython3",
   "version": "3.10.0"
  }
 },
 "nbformat": 4,
 "nbformat_minor": 5
}
